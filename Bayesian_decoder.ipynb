{
 "cells": [
  {
   "cell_type": "markdown",
   "metadata": {
    "colab_type": "text",
    "id": "view-in-github"
   },
   "source": [
    "<a href=\"https://colab.research.google.com/github/Neurocoders/AttentionProject/blob/decoder_branch/Bayesian_decoder.ipynb\" target=\"_parent\"><img src=\"https://colab.research.google.com/assets/colab-badge.svg\" alt=\"Open In Colab\"/></a>"
   ]
  },
  {
   "cell_type": "markdown",
   "metadata": {
    "colab_type": "text",
    "id": "bEqdz1ZUMaj1"
   },
   "source": [
    "## Loading of Steinmetz data\n",
    "\n",
    "includes some visualizations"
   ]
  },
  {
   "cell_type": "code",
   "execution_count": 2,
   "metadata": {
    "cellView": "both",
    "colab": {},
    "colab_type": "code",
    "id": "TLWjKq8bLDqm"
   },
   "outputs": [],
   "source": [
    "#@title Data retrieval\n",
    "import os, requests\n",
    "\n",
    "fname = []\n",
    "for j in range(3):\n",
    "  fname.append('steinmetz_part%d.npz'%j)\n",
    "url = [\"https://osf.io/agvxh/download\"]\n",
    "url.append(\"https://osf.io/uv3mw/download\")\n",
    "url.append(\"https://osf.io/ehmw2/download\")\n",
    "\n",
    "fname.append('steinmetz_st.npz')\n",
    "fname.append('steinmetz_wav.npz')\n",
    "fname.append('steinmetz_lfp.npz')\n",
    "\n",
    "\n",
    "url.append(\"https://osf.io/4bjns/download\")\n",
    "url.append(\"https://osf.io/ugm9v/download\")\n",
    "url.append(\"https://osf.io/kx3v9/download\")\n",
    "\n",
    "for j in range(len(url)):\n",
    "  if not os.path.isfile(fname[j]):\n",
    "    try:\n",
    "      r = requests.get(url[j])\n",
    "    except requests.ConnectionError:\n",
    "      print(\"!!! Failed to download data !!!\")\n",
    "    else:\n",
    "      if r.status_code != requests.codes.ok:\n",
    "        print(\"!!! Failed to download data !!!\")\n",
    "      else:\n",
    "        with open(fname[j], \"wb\") as fid:\n",
    "          fid.write(r.content)\n"
   ]
  },
  {
   "cell_type": "code",
   "execution_count": 4,
   "metadata": {
    "colab": {
     "base_uri": "https://localhost:8080/",
     "height": 74
    },
    "colab_type": "code",
    "id": "2kYuM36BERNX",
    "outputId": "77321c95-f3ac-4bbf-f678-40a8dfc008ab"
   },
   "outputs": [
    {
     "name": "stdout",
     "output_type": "stream",
     "text": [
      "dict_keys(['lfp', 'lfp_passive', 'brain_area_lfp'])\n",
      "dict_keys(['spks', 'wheel', 'pupil', 'lfp', 'response', 'response_time', 'bin_size', 'stim_onset', 'contrast_right', 'contrast_left', 'brain_area', 'brain_area_lfp', 'feedback_time', 'feedback_type', 'gocue', 'mouse_name', 'date_exp', 'trough_to_peak', 'waveform_w', 'waveform_u', 'active_trials', 'contrast_left_passive', 'contrast_right_passive', 'spks_passive', 'lfp_passive', 'pupil_passive', 'wheel_passive'])\n"
     ]
    }
   ],
   "source": [
    "import numpy as np\n",
    "\n",
    "alldat = np.array([])\n",
    "for j in range(3):\n",
    "  alldat = np.hstack((alldat, np.load('steinmetz_part%d.npz'%j, allow_pickle=True)['dat']))\n",
    "\n",
    "# select just one of the recordings here. 11 is nice because it has some neurons in vis ctx. \n",
    "dat = alldat[11]\n",
    "\n",
    "dat_LFP_all = np.load('steinmetz_lfp.npz', allow_pickle=True)['dat']\n",
    "dat_LFP = dat_LFP_all[11] #beware of lfp vs LFP here\n",
    "print(dat_LFP.keys())\n",
    "\n",
    "print(dat.keys())\n",
    "\n",
    "# select just one of the recordings here. 11 is nice because it has some neurons in vis ctx. \n"
   ]
  },
  {
   "cell_type": "markdown",
   "metadata": {
    "colab_type": "text",
    "id": "5K7UT7dyj_6R"
   },
   "source": [
    "`alldat` contains 39 sessions from 10 mice, data from Steinmetz et al, 2019. Time bins for all measurements are 10ms, starting 500ms before stimulus onset. The mouse had to determine which side has the highest contrast. For each `dat = alldat[k]`, you have the following fields:\n",
    "\n",
    "* `dat['mouse_name']`: mouse name\n",
    "* `dat['date_exp']`: when a session was performed\n",
    "* `dat['spks']`: neurons by trials by time bins.    \n",
    "* `dat['brain_area']`: brain area for each neuron recorded. \n",
    "* `dat['contrast_right']`: contrast level for the right stimulus, which is always contralateral to the recorded brain areas.\n",
    "* `dat['contrast_left']`: contrast level for left stimulus. \n",
    "* `dat['gocue']`: when the go cue sound was played. \n",
    "* `dat['response_times']`: when the response was registered, which has to be after the go cue. The mouse can turn the wheel before the go cue (and nearly always does!), but the stimulus on the screen won't move before the go cue.  \n",
    "* `dat['response']`: which side the response was (`-1`, `0`, `1`). When the right-side stimulus had higher contrast, the correct choice was `-1`. `0` is a no go response. \n",
    "* `dat['feedback_time']`: when feedback was provided. \n",
    "* `dat['feedback_type']`: if the feedback was positive (`+1`, reward) or negative (`-1`, white noise burst).  \n",
    "* `dat['wheel']`: exact position of the wheel that the mice uses to make a response, binned at `10ms`. \n",
    "* `dat['pupil']`: pupil area  (noisy, because pupil is very small) + pupil horizontal and vertical position. \n",
    "* `dat['lfp']`: recording of the local field potential in each brain area from this experiment, binned at `10ms`.\n",
    "* `dat['brain_area_lfp']`: brain area names for the LFP channels. \n",
    "* `dat['trough_to_peak']`: measures the width of the action potential waveform for each neuron. Widths `<=10` samples are \"putative fast spiking neurons\". \n",
    "* `dat['waveform_w']`: temporal components of spike waveforms. `w@u` reconstructs the time by channels action potential shape. \n",
    "* `dat['waveform_u]`: spatial components of spike waveforms.\n",
    "* `dat['%X%_passive']`: same as above for `X` = {`spks`, `lfp`, `pupil`, `wheel`, `contrast_left`, `contrast_right`} but for  passive trials at the end of the recording when the mouse was no longer engaged and stopped making responses. \n",
    "\n",
    "\n"
   ]
  },
  {
   "cell_type": "code",
   "execution_count": 5,
   "metadata": {
    "cellView": "both",
    "colab": {},
    "colab_type": "code",
    "id": "raBVOEWgUK_B"
   },
   "outputs": [],
   "source": [
    "#@title Import matplotlib and set defaults\n",
    "from matplotlib import rcParams \n",
    "from matplotlib import pyplot as plt\n",
    "rcParams['figure.figsize'] = [20, 4]\n",
    "rcParams['font.size'] =15\n",
    "rcParams['axes.spines.top'] = False\n",
    "rcParams['axes.spines.right'] = False\n",
    "rcParams['figure.autolayout'] = True"
   ]
  },
  {
   "cell_type": "code",
   "execution_count": 6,
   "metadata": {
    "cellView": "both",
    "colab": {
     "base_uri": "https://localhost:8080/",
     "height": 641
    },
    "colab_type": "code",
    "id": "rOHgfqU5EX0m",
    "outputId": "f3435b33-a885-4a62-e14a-d4b285356a08"
   },
   "outputs": [
    {
     "name": "stdout",
     "output_type": "stream",
     "text": [
      "the shape of lfp is: (12, 340, 250)\n",
      "the shape of lfp_passive is: (12, 110, 250)\n",
      "brain_area_lfp: ['DG', 'LGd', 'SUB', 'VISp', 'ACA', 'MOs', 'PL', 'CA1', 'DG', 'LH', 'MD', 'VISam']\n",
      "the shape of spks is: (698, 340, 250)\n",
      "the shape of wheel is: (1, 340, 250)\n",
      "the shape of pupil is: (3, 340, 250)\n",
      "the shape of lfp is: (12, 340, 250)\n",
      "the shape of response is: (340,)\n",
      "the shape of response_time is: (340, 1)\n",
      "bin_size: 0.01\n",
      "stim_onset: 0.5\n",
      "the shape of contrast_right is: (340,)\n",
      "the shape of contrast_left is: (340,)\n",
      "the shape of brain_area is: (698,)\n",
      "brain_area_lfp: ['DG', 'LGd', 'SUB', 'VISp', 'ACA', 'MOs', 'PL', 'CA1', 'DG', 'LH', 'MD', 'VISam']\n",
      "the shape of feedback_time is: (340, 1)\n",
      "the shape of feedback_type is: (340,)\n",
      "the shape of gocue is: (340, 1)\n",
      "mouse_name: Lederberg\n",
      "date_exp: 2017-12-05\n",
      "the shape of trough_to_peak is: (698,)\n",
      "the shape of waveform_w is: (698, 82, 3)\n",
      "the shape of waveform_u is: (698, 3, 384)\n",
      "the shape of active_trials is: (450,)\n",
      "the shape of contrast_left_passive is: (110,)\n",
      "the shape of contrast_right_passive is: (110,)\n",
      "the shape of spks_passive is: (698, 110, 250)\n",
      "the shape of lfp_passive is: (12, 110, 250)\n",
      "the shape of pupil_passive is: (3, 110, 250)\n",
      "the shape of wheel_passive is: (1, 110, 250)\n"
     ]
    }
   ],
   "source": [
    "#@title Run this cell if you want to see the shape of different data dictionary fields\n",
    "\n",
    "for keys in dat_LFP:\n",
    "    try:\n",
    "        print(f\"the shape of {keys} is:\", dat_LFP[keys].shape)\n",
    "    except:\n",
    "        print(f\"{keys}:\", dat_LFP[keys])\n",
    "        \n",
    "for keys in dat: # see the shape of contents of \"dat\" variable\n",
    "    try:\n",
    "        print(f\"the shape of {keys} is:\", dat[keys].shape)\n",
    "    except:\n",
    "        print(f\"{keys}:\", dat[keys])\n",
    "        "
   ]
  },
  {
   "cell_type": "code",
   "execution_count": 8,
   "metadata": {
    "cellView": "both",
    "colab": {
     "base_uri": "https://localhost:8080/",
     "height": 54
    },
    "colab_type": "code",
    "id": "0-ZlQQY3EaZf",
    "outputId": "0eb8e55a-2c0b-47e2-e4b8-14f7e861afd7"
   },
   "outputs": [],
   "source": [
    "#@title Import required libraries\n",
    "# please use the same conventions across the document\n",
    "import pandas as pd\n",
    "import seaborn as sns\n",
    "import scipy.stats as stats\n",
    "import scipy.signal as signal\n",
    "import scipy.fftpack as fftpack  "
   ]
  },
  {
   "cell_type": "code",
   "execution_count": 6,
   "metadata": {
    "colab": {},
    "colab_type": "code",
    "id": "MwT9Qa-raqkS"
   },
   "outputs": [],
   "source": [
    "#@title Data splitting\n",
    "def split_stim_indices(dat):\n",
    "  n_trials = len(dat['response'])\n",
    "  no_stim = np.logical_and(dat['contrast_left'] == 0, dat['contrast_right'] == 0)\n",
    "  one_side_stim = np.logical_xor(dat['contrast_left'] == 0, dat['contrast_right'] == 0)\n",
    "  two_side_stim = np.logical_and(dat['contrast_left'] > 0, dat['contrast_right'] > 0)\n",
    "  return (no_stim, one_side_stim, two_side_stim)\n",
    "\n",
    "def split_accuracy_indices(dat):\n",
    "  n_trials = len(dat['response'])\n",
    "  correct = []\n",
    "  incorrect = []\n",
    "  for i in range(n_trials):\n",
    "    if (dat['contrast_left'][i] > dat['contrast_right'][i] and dat['response'][i] == 1 ):\n",
    "      correct.append( True )\n",
    "      incorrect.append(False)\n",
    "    elif (dat['contrast_left'][i] < dat['contrast_right'][i] and dat['response'][i] == -1 ):\n",
    "      correct.append( True )\n",
    "      incorrect.append(False)\n",
    "    elif (dat['contrast_left'][i] == 0 and dat['contrast_right'][i] == 0 and dat['response'][i] == 0 ):\n",
    "      correct.append( True )\n",
    "      incorrect.append(False)\n",
    "    else:\n",
    "      incorrect.append( True )\n",
    "      correct.append(False)\n",
    "  return (correct, incorrect)\n",
    "\n",
    "no_stim, one_side_stim, two_side_stim = split_stim_indices(dat)\n",
    "correct, incorrect = split_accuracy_indices(dat)\n",
    "#to get only one_side trials which are correct use np.logical_and(one_side_stim, correct)\n",
    "correct_one_side = np.logical_and(one_side_stim, correct)\n"
   ]
  },
  {
   "cell_type": "code",
   "execution_count": 7,
   "metadata": {
    "colab": {
     "base_uri": "https://localhost:8080/",
     "height": 286
    },
    "colab_type": "code",
    "id": "gjR7bhIIq5O4",
    "outputId": "94593327-0b99-4557-f0a7-9f9df5a84c77"
   },
   "outputs": [
    {
     "data": {
      "image/png": "[encoded data removed]",
      "text/plain": [
       "<Figure size 1440x288 with 1 Axes>"
      ]
     },
     "metadata": {
      "needs_background": "light",
      "tags": []
     },
     "output_type": "display_data"
    }
   ],
   "source": [
    "eff_response = dat[\"response_time\"]-dat[\"gocue\"]\n",
    "plotter = dat[\"response_time\"]\n",
    "sns.distplot(plotter, hist=True, kde=True,  # plot histogram with kernel density\n",
    "             bins=80, color = 'gray', \n",
    "             hist_kws={'edgecolor':'black'},\n",
    "             kde_kws={'linewidth': 4, 'color': 'k'});\n",
    "sns.distplot(plotter[correct], hist=True, kde=True,  # plot histogram with kernel density\n",
    "             bins=80, color = 'gray', \n",
    "             hist_kws={'edgecolor':'black'},\n",
    "             kde_kws={'linewidth': 4, 'color': 'r'});\n",
    "sns.distplot(plotter[incorrect], hist=True, kde=True,  # plot histogram with kernel density\n",
    "             bins=80, color = 'gray', \n",
    "             hist_kws={'edgecolor':'black'},\n",
    "             kde_kws={'linewidth': 4, 'color': 'g'});\n",
    "sns.distplot(plotter[two_side_stim], hist=True, kde=True,  # plot histogram with kernel density\n",
    "             bins=80, color = 'gray', \n",
    "             hist_kws={'edgecolor':'black'},\n",
    "             kde_kws={'linewidth': 4, 'color': 'b'});"
   ]
  },
  {
   "cell_type": "markdown",
   "metadata": {
    "colab_type": "text",
    "id": "noHwHQr1Eihm"
   },
   "source": [
    "**Considerations:**\n",
    "\n",
    "1- go cue time, response time and feedback time are measured with respect to the same time reference point (have the same 0 time)\n",
    "\n",
    "2- cannot understand the \"reaction time\" variable\n",
    "\n",
    "3- have some infinity values in the reaction time! (confirm this?)"
   ]
  },
  {
   "cell_type": "code",
   "execution_count": 8,
   "metadata": {
    "colab": {},
    "colab_type": "code",
    "id": "hZuAwHJlEf4p"
   },
   "outputs": [],
   "source": [
    "#------------ Initial required variables, gather them in here if possible--------------\n",
    "\n",
    "dt = 10 # binning at 10 ms\n",
    "NT = dat_LFP['lfp'].shape[-1] # number of time bins\n",
    "time_vec = dt * np.arange(NT)\n",
    "total_trial = dat_LFP['lfp'].shape[1] # number of trials\n",
    "\n",
    "# lfp has form brain area* trial * time"
   ]
  },
  {
   "cell_type": "code",
   "execution_count": 9,
   "metadata": {
    "colab": {
     "base_uri": "https://localhost:8080/",
     "height": 109
    },
    "colab_type": "code",
    "id": "1o44vtoo2QNG",
    "outputId": "c59a99fa-3c30-4330-ab25-109a5f7e2777"
   },
   "outputs": [
    {
     "name": "stdout",
     "output_type": "stream",
     "text": [
      "['DG', 'LGd', 'SUB', 'VISp', 'ACA', 'MOs', 'PL', 'CA1', 'DG', 'LH', 'MD', 'VISam']\n",
      "please insert the first lfp region to plot:LGd\n",
      "please insert the second lfp region to plot:PL\n",
      "do you wish to visualize the 2 LFPs that you want to analyse? y/nn\n",
      "do you wish to visualize the results of your smoothing? y/nn\n"
     ]
    }
   ],
   "source": [
    "def visualize_areas(data_LFP = dat_LFP,trial_num = 1,typ = \"hamming\", win_len = 6, \n",
    "                 data_all = dat, fig_size = (18,10)):\n",
    "    \"\"\"\n",
    "    Returns two indices corresponding to the user defined brain regions to study LFP\n",
    "  \n",
    "    Args:\n",
    "    data_LFP: dictionary of LFPs\n",
    "    trial_num : Trial number to visualize\n",
    "    typ:  type of filter window, choose from gaussian, hamming, and hann\n",
    "    win_len: length of the filter window\n",
    "    data_all: Contains the reaction times, go cue and other trail information \n",
    "\n",
    "    output:\n",
    "    ind1: index of the first brain region that we want to study\n",
    "    ind2: index of the second brain region that we want to study\n",
    "    area1: name of the first brain region that we want to study\n",
    "    area2: name of the second brain region that we want to study\n",
    "\n",
    "    \"\"\"\n",
    "    print(data_LFP[\"brain_area_lfp\"])\n",
    "    area1 = input(\"please insert the first lfp region to plot:\")\n",
    "    area2 = input(\"please insert the second lfp region to plot:\")\n",
    "    \n",
    "    ind1 = data_LFP[\"brain_area_lfp\"].index(area1)\n",
    "    ind2 = data_LFP[\"brain_area_lfp\"].index(area2)\n",
    "    regions = np.array(dat_LFP[\"brain_area_lfp\"]) # this is for multiple occurences of one region\n",
    "    \n",
    "    # see if there are multiple recordings of one area\n",
    "    if data_LFP[\"brain_area_lfp\"].count(area1) >1:\n",
    "        what_area1 = int(input(\"more than region with this name was found,\\\n",
    "        please specify which instance you want to see (1: first, 2:second,...)\"))\n",
    "        ind1 = np.where(regions == area1)[0][what_area1-1]\n",
    "\n",
    "    if data_LFP[\"brain_area_lfp\"].count(area2) >1:\n",
    "        what_area2 = int(input(\"more than region with this name was found,\\\n",
    "        please specify which instance you want to see (1: first, 2:second,...)\"))\n",
    "        ind2 = np.where(regions == area2)[0][what_area2-1]\n",
    "\n",
    "    # visualization of raw LFPs before filtering\n",
    "    temp_inp = input(\"do you wish to visualize the 2 LFPs that you want to analyse? y/n\")\n",
    "    if temp_inp == \"y\":\n",
    "        plt.figure(figsize = (10,7))\n",
    "        plt.plot(time_vec, data_LFP[\"lfp\"][ind1, trial_num,:], label = area1 );\n",
    "        plt.plot(time_vec, data_LFP[\"lfp\"][ind2, trial_num, :], label = area2)\n",
    "\n",
    "        plt.axvline(x = (data_all[\"gocue\"])[trial_num] * 1000, color = 'black', label = \"go cue\") # need the go cue and response/reaction time \n",
    "        plt.axvline(x = (data_all[\"response_time\"])[trial_num] * 1000,             # from the main data\n",
    "                ls = '--', color = 'black', label = \"response time\")\n",
    "\n",
    "        plt.xlabel(\"time(ms)\", fontsize = 12)\n",
    "        plt.ylabel(\"voltage\", fontsize = 12)\n",
    "        plt.title(\"plot of two unfiltered LFPs\", fontsize = 13)\n",
    "        plt.legend()\n",
    "        plt.show()\n",
    "\n",
    "        # smoothing filtering\n",
    "        # choosing the window type\n",
    "    if typ == \"hann\":\n",
    "        win = signal.windows.hann(win_len, sym=True)\n",
    "    elif typ == \"gaussian\":\n",
    "        st = float(input(\"you have chosen gaussian, please specify a number for gaussian filter's standard deviation\"))\n",
    "        win = signal.windows.gaussian(win_len, st, sym=True)\n",
    "    \n",
    "    elif typ == \"hamming\":\n",
    "        win = signal.windows.hamming(win_len, sym=True)\n",
    "\n",
    "    else:\n",
    "        raise ValueError(\"type is not  hann, hamming, gaussian\")\n",
    "\n",
    "     # applying the filter using filtfilt    \n",
    "    smooth_sign1 = signal.filtfilt(b = win, a = 1, x = data_LFP[\"lfp\"][ind1, trial_num, :], axis=- 1, padtype='odd', padlen=None, method='pad', irlen=None)\n",
    "    smooth_sign2 = signal.filtfilt(b = win, a = 1, x = data_LFP[\"lfp\"][ind2, trial_num, :], axis=- 1, padtype='odd', padlen=None, method='pad', irlen=None)\n",
    "\n",
    "    # plotting filter results\n",
    "    temp_inp2 = input(\"do you wish to visualize the results of your smoothing? y/n\")\n",
    "    if temp_inp2 == 'y':\n",
    "        fig, axs = plt.subplots(1,2,figsize = fig_size)\n",
    "        \n",
    "        axs[0].plot(time_vec, data_LFP[\"lfp\"][ind1, trial_num, :],label = 'Raw Signal')\n",
    "        axs[0].plot(time_vec, smooth_sign1,label = 'Smoothened signal')\n",
    "        axs[0].set(title = f\"LFP from {area1}\")\n",
    "        \n",
    "        #plt.figure(figsize = (10,7))\n",
    "        axs[1].plot(time_vec,data_LFP[\"lfp\"][ind2, trial_num, :],label = 'Raw Signal')\n",
    "        axs[1].plot(time_vec,smooth_sign2,label = 'Smoothened signal')\n",
    "        axs[1].set(title = f\"LFP from {area2}\")\n",
    "        plt.xlabel('Time'); plt.ylabel('Amplitude')\n",
    "        plt.legend(); plt.show()\n",
    "\n",
    "    return smooth_sign1, smooth_sign2, area1, area2, ind1, ind2\n",
    "\n",
    "    \n",
    "#@title Get Filtered LFP data for the interested brain areas\n",
    "smooth_sig1, smooth_sig2, area1, area2, ind1, ind2 = visualize_areas(data_LFP = dat_LFP,trial_num = 1,typ = \"hann\", win_len = 4, \n",
    "                                                         data_all = dat, fig_size = (18,10))\n",
    "        "
   ]
  },
  {
   "cell_type": "code",
   "execution_count": 10,
   "metadata": {
    "colab": {},
    "colab_type": "code",
    "id": "B2pZBWA28kYr"
   },
   "outputs": [],
   "source": [
    "#@ ---------------Fourier Transform--------------------\n",
    "# NT => number of time points, NT/2 would be the nyquest \n",
    "# dt => time bin size\n",
    "dt = 10\n",
    "# time_vec => time vector in ms\n",
    "NT = dat_LFP['lfp'].shape[-1] # number of time bins\n",
    "time_vec = dt * np.arange(NT)\n",
    "\n",
    "def fourier(NT = NT, dt = dt, signal1 = smooth_sig1, signal2 =  smooth_sig2,\n",
    "            dat = dat_LFP,trial_num = 1, area1 = area1,\n",
    "                area2 = area2, fig_size = (18,10)):\n",
    "    \"\"\"\n",
    "   \n",
    "\n",
    "    This function performs fourier transformation using FFT on the lfp signal and also\n",
    "    plots the time series and frequency result of fourier. dat[region, trial_num, :]\n",
    "    \n",
    "    Inputs:\n",
    "    NT: number of total time points\n",
    "    dt: size of time bin\n",
    "    signal1: first time seri to decompose, set to the first output of the smoothing by default\n",
    "    signal2: second time seri to decompose, set to the second output of the smoothing by default\n",
    "    dat: dictionary containing the lfp data\n",
    "    trial_num: number of trial to plut, \n",
    "    \n",
    "\n",
    "    Returns:\n",
    "    hz, amp1, amp2\n",
    "    hz: frequency vector (hz = np.linspace(0,sampl_rate, NT) )\n",
    "    amp1: amplitude result of fourier transform of area 1 LFP\n",
    "    amp2: amplitude result of fourier transform of area 1 LFP\n",
    "    * both only contain elements up to the nyquist frequency \n",
    "    \"\"\"\n",
    "\n",
    "    sampl_rate = 1/(dt/1000) # sampling rate\n",
    "    nyquist = sampl_rate/2\n",
    "\n",
    "\n",
    "    freq_seri1 = fftpack.fft(signal1) #compute freq seri\n",
    "    freq_seri2 = fftpack.fft(signal2)\n",
    "\n",
    "    hz = np.linspace(0,sampl_rate, NT) # frequency vector same for all\n",
    "   \n",
    "    amp1 = 2.0/NT * np.abs(freq_seri1)  # amplitude vector,\n",
    "    # 2 * is to add the amplitude from  negative frequencies to positive ones\n",
    "    # divide by number of time points for normalization\n",
    "    amp2 = 2.0/NT * np.abs(freq_seri2)\n",
    "    \n",
    "    \n",
    "    # plot timeseries\n",
    "    # temp_inp = input(\"do you want to visualize the results of your decomposition? y/n\")\n",
    "\n",
    "    # if temp_inp == 'y':\n",
    "    #     fig, axs = plt.subplots(1,2, figsize = fig_size)\n",
    "\n",
    "    #     axs[0].plot(hz, amp1) # this will have both neg and pos freqs so we have to limit it to nyquist\n",
    "    #     axs[0].set(ylabel='Amplitude',xlabel='Frequency (Hz)',title= f'FFT result from {area1}', xlim = [0, nyquist])  \n",
    "    #     axs[1].plot(hz, amp2) # this will have both neg and pos freqs so we have to limit it to nyquist\n",
    "    #     axs[1].set(ylabel='Amplitude',xlabel='Frequency (Hz)',title= f'FFT result from {area2}', xlim = [0, nyquist])\n",
    "        \n",
    "    #     plt.show()\n",
    "\n",
    "    # now we want to only return the elements of hz and amp that \n",
    "    # up to the nyquist: this is to find the index of nearest element of hz to nyquist   \n",
    "    return_ind = int(np.where(abs(hz-nyquist) == np.min(abs(hz - nyquist)))[0][0])+1\n",
    "    # pdb.set_trace()\n",
    "\n",
    "    return hz[:return_ind], amp1[:return_ind], amp2[:return_ind]\n",
    "\n",
    "freq_vals,fft_signal1,fft_signal2 = fourier()"
   ]
  },
  {
   "cell_type": "code",
   "execution_count": null,
   "metadata": {
    "colab": {},
    "colab_type": "code",
    "id": "6v0sEURNLpUd"
   },
   "outputs": [],
   "source": [
    "b = np.array([])"
   ]
  },
  {
   "cell_type": "code",
   "execution_count": 11,
   "metadata": {
    "colab": {},
    "colab_type": "code",
    "id": "mCt9veHO7ny_"
   },
   "outputs": [],
   "source": [
    "# print(freq_vals)\n",
    "# len(dat['response'])\n",
    "correct_trials    = np.where(correct_one_side == True)[0]\n",
    "incorrect_trials  = np.where(correct_one_side == False)[0]\n",
    "alpha_indices = np.where(np.logical_and(freq_vals>=8, freq_vals<=12)) # alpha - 8-12 Hz # get indices where frequency values are in alpha and theta range\n",
    "theta_indices = np.where(np.logical_and(freq_vals>=4, freq_vals<=7))\n",
    "a = np.mean(fft_signal1[alpha_indices])"
   ]
  },
  {
   "cell_type": "code",
   "execution_count": 12,
   "metadata": {
    "colab": {},
    "colab_type": "code",
    "id": "btFUnzKmJazN"
   },
   "outputs": [],
   "source": [
    "# Obtain powers of alpha and theta band\n",
    "\n",
    "# Correct trials for stimulus on one side\n",
    "incorrect_one_side = np.logical_and(one_side_stim,incorrect)\n",
    "correct_trials    = np.where(correct_one_side == True)[0]\n",
    "incorrect_trials  = np.where(incorrect_one_side == True)[0]\n",
    "\n",
    "\n",
    "def get_powers(area1='VISam',area2='LGd', dat_LFP= dat_LFP,dat = dat,correct_trials = correct_trials, incorrect_trials = incorrect_trials):\n",
    "  \"\"\"\n",
    "  This function takes the areas into account and computes the band powers by obtaining the \n",
    "  power values at every time bin (in a particular frequency band) and then takes the \n",
    "  average of those power values for each trial\n",
    "\n",
    "  input arguments:\n",
    "  area1 : Brain area 1\n",
    "  area2 : Brain area 2\n",
    "  dat_LFP: LFP data\n",
    "  dat: dictionary containing response times, time vectors\n",
    "  correct_trials: correct trials for one sided stimulus\n",
    "  incorrect_trials: incorrect trials for one sided stimulus\n",
    "\n",
    "  output arguments:\n",
    "  correct_trials_alpha_power_signal1/2 : Alpha power for correct trials for signal 1/ 2\n",
    "  incorrect_trials_alpha_power_signal1/2 : Alpha power for incorrect trials for signal 1/2\n",
    "  correct_trials_theta_power_signal1/2: Theta power for correct trials for signal 1/2\n",
    "  incorrect_trials_theta_power_signal1/2: Theta power for incorrect trials for signal 1/2 \n",
    "\n",
    "  \"\"\"\n",
    "  # Initializing empty arrays to append\n",
    "  correct_trials_alpha_power_signal1 = np.array([]) ; correct_trials_alpha_power_signal2 = np.array([]);\n",
    "  correct_trials_theta_power_signal1 = np.array([]) ; correct_trials_theta_power_signal2 = np.array([]);\n",
    "  incorrect_trials_alpha_power_signal1 = np.array([]); incorrect_trials_alpha_power_signal2 = np.array([])\n",
    "  incorrect_trials_theta_power_signal1 = np.array([]); incorrect_trials_theta_power_signal2 = np.array([])\n",
    "\n",
    "  ind1 = dat_LFP[\"brain_area_lfp\"].index(area1)\n",
    "  ind2 = dat_LFP[\"brain_area_lfp\"].index(area2)\n",
    "  regions = np.array(dat_LFP[\"brain_area_lfp\"]) # this is for multiple occurences of one region\n",
    "\n",
    "  # If more than one instance, taking the first recording area into account\n",
    "  if dat_LFP[\"brain_area_lfp\"].count(area1) >1:\n",
    "       ind1 = np.where(regions == area1)[0][1]\n",
    "\n",
    "  if dat_LFP[\"brain_area_lfp\"].count(area2) >1:\n",
    "      ind2 = np.where(regions == area2)[0][1]\n",
    "  \n",
    "  for i_trial in range(len(dat['response'])):\n",
    "    # Compute Fourier transform \n",
    "    freq_vals, fft_signal1, fft_signal2 = fourier(NT = NT, dt = 10, signal1 = dat_LFP[\"lfp\"][ind1,i_trial,:] , signal2 = dat_LFP[\"lfp\"][ind2,i_trial,:],\n",
    "                                                  dat = dat_LFP,trial_num = i_trial, area1 = area1, area2 = area2, fig_size = (18,10))\n",
    "    # fft_signal1 = 10 * np.log10(fft_signal1) # In dB, can use to visualize power spectrum but powers are calculated using raw power \n",
    "    # fft_signal2 = 10 * np.log10(fft_signal2)\n",
    "    alpha_indices = np.where(np.logical_and(freq_vals>=8, freq_vals<=12)) # alpha - 8-12 Hz # get indices where frequency values are in alpha and theta range\n",
    "    theta_indices = np.where(np.logical_and(freq_vals>=4, freq_vals<=7)) # theta - 4-7 Hz\n",
    "\n",
    "    if i_trial in correct_trials:\n",
    "      correct_trials_alpha_power_signal1 =  np.append(correct_trials_alpha_power_signal1, np.mean(fft_signal1[alpha_indices]))\n",
    "      correct_trials_alpha_power_signal2 = np.append(correct_trials_alpha_power_signal2, np.mean(fft_signal2[alpha_indices]))\n",
    "\n",
    "      correct_trials_theta_power_signal1 = np.append(correct_trials_theta_power_signal1, np.mean(fft_signal1[theta_indices]))\n",
    "      correct_trials_theta_power_signal2 = np.append(correct_trials_theta_power_signal2, np.mean(fft_signal2[theta_indices]))\n",
    "   \n",
    "    elif i_trial in incorrect_trials:\n",
    "      incorrect_trials_alpha_power_signal1 = np.append(incorrect_trials_alpha_power_signal1, np.mean(fft_signal1[alpha_indices])) \n",
    "      incorrect_trials_alpha_power_signal2 = np.append(incorrect_trials_alpha_power_signal2, np.mean(fft_signal2[alpha_indices]))\n",
    "\n",
    "      incorrect_trials_theta_power_signal1 = np.append(incorrect_trials_theta_power_signal1, np.mean(fft_signal1[theta_indices]))\n",
    "      incorrect_trials_theta_power_signal2 = np.append(incorrect_trials_theta_power_signal2, np.mean(fft_signal2[theta_indices]))\n",
    "  \n",
    "  return correct_trials_alpha_power_signal1, correct_trials_alpha_power_signal2,correct_trials_theta_power_signal1,correct_trials_theta_power_signal2,\\\n",
    "  incorrect_trials_alpha_power_signal1,incorrect_trials_alpha_power_signal2, incorrect_trials_theta_power_signal1, incorrect_trials_theta_power_signal2\n",
    "\n",
    "\n",
    "# Function ends\n",
    "\n",
    "\n",
    "# correct_trials_alpha_power_signal1, correct_trials_alpha_power_signal2,correct_trials_theta_power_signal1,correct_trials_theta_power_signal2,incorrect_trials_alpha_power_signal1,incorrect_trials_alpha_power_signal2, incorrect_trials_theta_power_signal1, incorrect_trials_theta_power_sign = get_powers()\n",
    "correct_trials_alpha_power_signal1, correct_trials_alpha_power_signal2,correct_trials_theta_power_signal1,correct_trials_theta_power_signal2,\\\n",
    "incorrect_trials_alpha_power_signal1,incorrect_trials_alpha_power_signal2, incorrect_trials_theta_power_signal1, \\\n",
    "incorrect_trials_theta_power_signal2 = get_powers(area1='VISam',area2='LGd', dat_LFP= dat_LFP,dat = dat,correct_trials = correct_trials,\n",
    "                                                  incorrect_trials = incorrect_trials)\n"
   ]
  },
  {
   "cell_type": "code",
   "execution_count": 13,
   "metadata": {
    "colab": {
     "base_uri": "https://localhost:8080/",
     "height": 246
    },
    "colab_type": "code",
    "id": "HXYxXKJKFj1C",
    "outputId": "a154c0a3-12c9-451d-e359-f6f800c45cb8"
   },
   "outputs": [
    {
     "ename": "NameError",
     "evalue": "ignored",
     "output_type": "error",
     "traceback": [
      "\u001b[0;31m---------------------------------------------------------------------------\u001b[0m",
      "\u001b[0;31mNameError\u001b[0m                                 Traceback (most recent call last)",
      "\u001b[0;32m<ipython-input-13-397d8f4a53a0>\u001b[0m in \u001b[0;36m<module>\u001b[0;34m()\u001b[0m\n\u001b[1;32m      8\u001b[0m \u001b[0mpar2\u001b[0m \u001b[0;34m=\u001b[0m \u001b[0mcorrect_trials_theta_power_signal1\u001b[0m \u001b[0;34m**\u001b[0m \u001b[0;36m2\u001b[0m\u001b[0;34m\u001b[0m\u001b[0;34m\u001b[0m\u001b[0m\n\u001b[1;32m      9\u001b[0m \u001b[0;34m\u001b[0m\u001b[0m\n\u001b[0;32m---> 10\u001b[0;31m \u001b[0mcorr\u001b[0m\u001b[0;34m,\u001b[0m\u001b[0mpVal\u001b[0m \u001b[0;34m=\u001b[0m \u001b[0mstats\u001b[0m\u001b[0;34m.\u001b[0m\u001b[0mpointbiserialr\u001b[0m\u001b[0;34m(\u001b[0m\u001b[0mpar\u001b[0m\u001b[0;34m,\u001b[0m \u001b[0mdat\u001b[0m\u001b[0;34m[\u001b[0m\u001b[0;34m\"response\"\u001b[0m\u001b[0;34m]\u001b[0m\u001b[0;34m[\u001b[0m\u001b[0mcorrect_trials\u001b[0m\u001b[0;34m]\u001b[0m\u001b[0;34m)\u001b[0m\u001b[0;34m\u001b[0m\u001b[0;34m\u001b[0m\u001b[0m\n\u001b[0m\u001b[1;32m     11\u001b[0m \u001b[0mprint\u001b[0m\u001b[0;34m(\u001b[0m\u001b[0mcorr\u001b[0m\u001b[0;34m,\u001b[0m\u001b[0mpVal\u001b[0m\u001b[0;34m)\u001b[0m\u001b[0;34m\u001b[0m\u001b[0;34m\u001b[0m\u001b[0m\n\u001b[1;32m     12\u001b[0m \u001b[0;31m# So the square of theta powers for VISam are correlated with the correct response?\u001b[0m\u001b[0;34m\u001b[0m\u001b[0;34m\u001b[0m\u001b[0;34m\u001b[0m\u001b[0m\n",
      "\u001b[0;31mNameError\u001b[0m: name 'par' is not defined"
     ]
    }
   ],
   "source": [
    "# plt.scatter(correct_trials_alpha_power_signal1,correct_trials_theta_power_signal1)\n",
    "# plt.show()\n",
    "# from scipy import stats\n",
    "# corr, pVal = stats.pearsonr(incorrect_trials_alpha_power_signal1,incorrect_trials_theta_power_signal1)\n",
    "# print(corr,pVal)\n",
    "# print(dat[\"response\"][incorrect_trials], dat[\"response\"][correct_trials])\n",
    "par1 = correct_trials_theta_power_signal1 - correct_trials_alpha_power_signal1 ** -1\n",
    "par2 = correct_trials_theta_power_signal1 ** 2\n",
    "\n",
    "corr,pVal = stats.pointbiserialr(par, dat[\"response\"][correct_trials])\n",
    "print(corr,pVal)\n",
    "# So the square of theta powers for VISam are correlated with the correct response?\n",
    "\n",
    "# Creating a dictionary to store parameters\n",
    "trial_params = {\n",
    "    \"responses\": dat[\"response\"][correct_trials],\n",
    "    \"correct_trials_theta_power_signal1\": correct_trials_theta_power_signal1,\n",
    "    \"correct_trials_alpha_power_signal1\": correct_trials_alpha_power_signal1,\n",
    "}"
   ]
  },
  {
   "cell_type": "code",
   "execution_count": 14,
   "metadata": {
    "colab": {
     "base_uri": "https://localhost:8080/",
     "height": 54
    },
    "colab_type": "code",
    "id": "0HQ_qHhYEDg1",
    "outputId": "a098fa10-6ede-4de1-e456-ff094ed8985d"
   },
   "outputs": [
    {
     "name": "stdout",
     "output_type": "stream",
     "text": [
      "[-0.21466062  0.12854811]\n",
      "[-1.  1.]\n"
     ]
    }
   ],
   "source": [
    "# Bayesian regressor - to try with regularizer\n",
    "from sklearn.datasets import load_iris\n",
    "from sklearn.model_selection import train_test_split\n",
    "from sklearn.naive_bayes import GaussianNB\n",
    "from sklearn import linear_model\n",
    "import numpy as np\n",
    "X = np.vstack([correct_trials_alpha_power_signal1,correct_trials_theta_power_signal1])\n",
    "y = dat[\"response\"][correct_trials]\n",
    "# X_train, X_test, y_train, y_test = train_test_split(X, y, test_size=0.25, random_state=0)\n",
    "reg = linear_model.BayesianRidge()\n",
    "reg.fit(X.T,y)#(X.reshape(-1, 1), y)\n",
    "a =X.T\n",
    "print(reg.predict(a[8:10,:])) # Testing with random samples\n",
    "print( y[8:10]) # actual response"
   ]
  },
  {
   "cell_type": "code",
   "execution_count": 15,
   "metadata": {
    "colab": {
     "base_uri": "https://localhost:8080/",
     "height": 1000
    },
    "colab_type": "code",
    "id": "j5C-3nAdcrcC",
    "outputId": "a1898192-7c71-434c-b2af-c66cf2c9a195"
   },
   "outputs": [
    {
     "name": "stdout",
     "output_type": "stream",
     "text": [
      "ACA : 57.36842105263158\n",
      "LS : 62.5\n",
      "MOs : 55.821917808219176\n",
      "CA3 : 52.42718446601942\n",
      "DG : 57.80730897009967\n",
      "SUB : 48.818897637795274\n",
      "VISp : 60.747663551401864\n",
      "CA1 : 49.863760217983646\n",
      "VISl : 60.0\n",
      "POST : 60.0\n",
      "VISpm : 73.91304347826086\n",
      "LP : 52.14723926380368\n",
      "MG : 60.86956521739131\n",
      "SPF : 78.26086956521739\n",
      "VISam : 54.973821989528794\n",
      "MRN : 58.37837837837838\n",
      "NB : 46.15384615384615\n",
      "LGd : 52.84090909090909\n",
      "TH : 56.375838926174495\n",
      "VPL : 63.63636363636363\n",
      "VISa : 50.0\n",
      "LSr : 60.46511627906976\n",
      "OLF : 50.0\n",
      "ORB : 55.223880597014926\n",
      "PL : 56.78391959798995\n",
      "AUD : 85.71428571428571\n",
      "SSp : 58.92857142857143\n",
      "LD : 65.95744680851064\n",
      "CP : 58.47457627118644\n",
      "EPd : 50.0\n",
      "PIR : 58.333333333333336\n",
      "ILA : 58.620689655172406\n",
      "TT : 49.45054945054945\n",
      "PO : 61.038961038961034\n",
      "ORBm : 64.28571428571429\n",
      "MB : 58.119658119658126\n",
      "SCm : 51.66666666666667\n",
      "SCsg : 69.52380952380952\n",
      "POL : 64.58333333333334\n",
      "GPe : 59.09090909090909\n",
      "VISrl : 54.054054054054056\n",
      "LSc : 50.0\n",
      "MOp : 71.56862745098039\n",
      "PT : 46.666666666666664\n",
      "LH : 57.14285714285714\n",
      "MD : 57.446808510638306\n",
      "ZI : 51.80722891566265\n",
      "RN : 81.81818181818183\n",
      "SCs : 65.07936507936508\n",
      "MS : 68.18181818181817\n",
      "PAG : 60.97560975609756\n",
      "RSP : 54.41176470588235\n",
      "BLA : 74.35897435897436\n",
      "VPM : 54.23728813559322\n",
      "SSs : 94.44444444444444\n",
      "MEA : 80.0\n",
      "RT : 78.57142857142857\n",
      "ACB : 61.53846153846154\n",
      "OT : 45.45454545454545\n",
      "SI : 59.09090909090909\n",
      "SNr : 60.65573770491803\n",
      "APN : 85.71428571428571\n",
      "VAL : 50.0\n",
      "IC : 48.148148148148145\n",
      "CA2 : 30.0\n",
      "SCig : 50.0\n",
      "DP : 68.42105263157895\n",
      "CL : 20.0\n",
      "EP : 58.333333333333336\n",
      "BMA : 69.23076923076923\n",
      "COA : 69.23076923076923\n",
      "CA : 73.33333333333333\n"
     ]
    }
   ],
   "source": [
    "# THE DECODER.......................................................\n",
    "from sklearn.model_selection import train_test_split\n",
    "from sklearn.naive_bayes import GaussianNB\n",
    "from sklearn.metrics import accuracy_score\n",
    "from sklearn.preprocessing import normalize\n",
    "\n",
    "sampl_rate = 1/(dt/1000) # sampling rate\n",
    "nyquist = sampl_rate/2\n",
    "\n",
    "n_mice = 39\n",
    "perf = {}\n",
    "Models = {}\n",
    "Tests = {}\n",
    "for _ in range(1):\n",
    "  for i_mouse in range(n_mice):\n",
    "    dat = alldat[i_mouse]\n",
    "    dat_LFP = dat_LFP_all[i_mouse]\n",
    "    NT = dat_LFP_all[i_mouse]['lfp'].shape[-1]\n",
    "    hz = np.linspace(0,sampl_rate, NT) # frequency vector same for all\n",
    "\n",
    "    alpha_indices = np.where(np.logical_and(hz>=8, hz<=12)) # alpha - 8-12 Hz # get indices where frequency values are in alpha and theta range\n",
    "    theta_indices = np.where(np.logical_and(hz>=4, hz<=7)) \n",
    "\n",
    "    no_stim, one_side_stim, two_side_stim = split_stim_indices(dat)\n",
    "    correct, incorrect = split_accuracy_indices(dat)\n",
    "\n",
    "    correct_one_side = np.logical_and(one_side_stim,correct)\n",
    "    incorrect_one_side = np.logical_and(one_side_stim,incorrect)\n",
    "    correct_trials    = np.where(correct_one_side == True)[0]\n",
    "    incorrect_trials  = np.where(incorrect_one_side == True)[0]\n",
    "    # print( \"Mouse \" + str(i_mouse) + \":\")\n",
    "    for i_area in range(len(dat_LFP['lfp'])):\n",
    "      alpha_power = np.array([]); theta_power = np.array([])\n",
    "\n",
    "      # To pick a singlular area, uncomment the next two lines\n",
    "      # if (dat_LFP['brain_area_lfp'][i_area] != \"LGd\" ):\n",
    "      #   continue\n",
    "      \n",
    "      for i_trial in range(len(dat['response'])):\n",
    "        freq_seri1 = fftpack.fft(dat_LFP['lfp'][i_area][i_trial]) #compute freq series\n",
    "        amp1 = 2.0/NT * np.abs(freq_seri1)  # amplitude vector,\n",
    "        return_ind = int(np.where(abs(hz-nyquist) == np.min(abs(hz - nyquist)))[0][0])+1\n",
    "        amp1 = amp1[:return_ind]\n",
    "        if i_trial in correct_trials:\n",
    "          alpha_power = np.append(alpha_power, np.mean(amp1[alpha_indices]))\n",
    "          theta_power = np.append(theta_power, np.mean(amp1[theta_indices]))\n",
    "\n",
    "      X = np.vstack([alpha_power,theta_power])\n",
    "      # X = np.vstack([alpha_power,theta_power])/np.sqrt(alpha_power**2 + theta_power**2)  # Naive Bayesian decoder\n",
    "      X = dat_LFP['lfp'][i_area][correct_trials].T\n",
    "      y = dat[\"response\"][correct_trials]\n",
    "      X_train, X_test, y_train, y_test = train_test_split(X.T, y, test_size=0.2)\n",
    "      gnb = Models.get(dat_LFP['brain_area_lfp'][i_area], GaussianNB())\n",
    "      # print(X_test.shape, y_test.shape)\n",
    "      test = Tests.get(dat_LFP['brain_area_lfp'][i_area], 0)\n",
    "      # print(test)\n",
    "      if test == 0:\n",
    "        test = [X_test, y_test]\n",
    "      else:\n",
    "        test[0] = np.vstack((test[0], X_test))\n",
    "        test[1] = np.hstack((test[1], y_test))\n",
    "      Tests[dat_LFP['brain_area_lfp'][i_area]] = test\n",
    "      gnb.partial_fit(X_train, y_train, [ -1, 1 ])\n",
    "      Models[dat_LFP['brain_area_lfp'][i_area]] = gnb\n",
    "      perf[dat_LFP['brain_area_lfp'][i_area]] = 0\n",
    "      \n",
    "    \n",
    "for reg in perf:\n",
    "  # acc = perf.get(dat_LFP['brain_area_lfp'][i_area], [] )\n",
    "  gnb = Models[reg]\n",
    "  y_pred = gnb.predict(Tests[reg][0])\n",
    "  y_test = Tests[reg][1]\n",
    "  # print(accuracy_score(y_test,y_pred)* 100)\n",
    "  print(reg,':',accuracy_score(y_test,y_pred)* 100)\n",
    "\n",
    "  # print( reg, np.mean(perf[reg]))"
   ]
  },
  {
   "cell_type": "code",
   "execution_count": null,
   "metadata": {
    "colab": {},
    "colab_type": "code",
    "id": "CWkzXmfhPMe5"
   },
   "outputs": [],
   "source": []
  }
 ],
 "metadata": {
  "colab": {
   "collapsed_sections": [],
   "include_colab_link": true,
   "name": "Bayesian_decoder.ipynb",
   "provenance": []
  },
  "kernelspec": {
   "display_name": "Python 3",
   "language": "python",
   "name": "python3"
  },
  "language_info": {
   "codemirror_mode": {
    "name": "ipython",
    "version": 3
   },
   "file_extension": ".py",
   "mimetype": "text/x-python",
   "name": "python",
   "nbconvert_exporter": "python",
   "pygments_lexer": "ipython3",
   "version": "3.8.5"
  }
 },
 "nbformat": 4,
 "nbformat_minor": 1
}
