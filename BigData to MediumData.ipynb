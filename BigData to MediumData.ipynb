{
 "cells": [
  {
   "cell_type": "code",
   "execution_count": 1,
   "metadata": {
    "ExecuteTime": {
     "end_time": "2021-04-18T18:04:48.010245Z",
     "start_time": "2021-04-18T18:04:47.067130Z"
    }
   },
   "outputs": [],
   "source": [
    "import numpy as np\n",
    "import pandas as pd\n",
    "import seaborn as sns\n",
    "import scipy.stats as stats\n",
    "import scipy.signal as signal\n",
    "import scipy.fftpack as fftpack\n",
    "import timeit, glob\n",
    "from scipy.signal import butter, lfilter, sosfiltfilt\n",
    "from matplotlib import rcParams\n",
    "from matplotlib import pyplot as plt"
   ]
  },
  {
   "cell_type": "code",
   "execution_count": 2,
   "metadata": {
    "ExecuteTime": {
     "end_time": "2021-04-18T18:04:48.014340Z",
     "start_time": "2021-04-18T18:04:48.011566Z"
    }
   },
   "outputs": [],
   "source": [
    "# Load the big data file downloaded from https://figshare.com/articles/dataset/LFP_data_from_Steinmetz_et_al_2019/9727895\n",
    "rootPath = \"/run/media/h4wke/Elements/LFP/\"\n",
    "\n",
    "Sessions = ['Cori_2016-12-14', 'Cori_2016-12-17', 'Cori_2016-12-18', 'Forssmann_2017-11-01', 'Forssmann_2017-11-02', 'Forssmann_2017-11-04', 'Forssmann_2017-11-05', 'Hench_2017-06-15', 'Hench_2017-06-16', 'Hench_2017-06-17', 'Hench_2017-06-18', 'Lederberg_2017-12-05', 'Lederberg_2017-12-06', 'Lederberg_2017-12-07', 'Lederberg_2017-12-08', 'Lederberg_2017-12-09', 'Lederberg_2017-12-10', 'Lederberg_2017-12-11', 'Moniz_2017-05-15', 'Moniz_2017-05-16', 'Moniz_2017-05-18', 'Muller_2017-01-07', 'Muller_2017-01-08', 'Muller_2017-01-09', 'Radnitz_2017-01-08', 'Radnitz_2017-01-09', 'Radnitz_2017-01-10', 'Radnitz_2017-01-11', 'Radnitz_2017-01-12', 'Richards_2017-10-29', 'Richards_2017-10-30', 'Richards_2017-10-31', 'Richards_2017-11-01', 'Richards_2017-11-02', 'Tatum_2017-12-06', 'Tatum_2017-12-07', 'Tatum_2017-12-08', 'Tatum_2017-12-09', 'Theiler_2017-10-11']\n"
   ]
  },
  {
   "cell_type": "code",
   "execution_count": 3,
   "metadata": {
    "ExecuteTime": {
     "end_time": "2021-04-18T18:04:48.017474Z",
     "start_time": "2021-04-18T18:04:48.015394Z"
    }
   },
   "outputs": [],
   "source": [
    "def time_to_sample( time ):\n",
    "    return round(time * big_lfp_ts[1,0]/big_lfp_ts[1,1])\n",
    "\n",
    "def samples( trial, intervals, dt ):\n",
    "    samples = np.array([intervals[trial,0], intervals[trial,1] ])/dt\n",
    "    samples = samples.astype(int)\n",
    "    return samples"
   ]
  },
  {
   "cell_type": "code",
   "execution_count": 4,
   "metadata": {
    "ExecuteTime": {
     "end_time": "2021-04-18T18:05:24.306283Z",
     "start_time": "2021-04-18T18:04:48.018274Z"
    }
   },
   "outputs": [
    {
     "name": "stdout",
     "output_type": "stream",
     "text": [
      "Reading:  /run/media/h4wke/Elements/LFP/Cori_2016-12-17_lfp/Cori_2016-12-17_LM_g0_t0.imec.lf.bin\n"
     ]
    }
   ],
   "source": [
    "session = Sessions[1]\n",
    "filename = glob.glob(rootPath+session+\"_lfp/\"+session+\"*\")[0]\n",
    "print(\"Reading: \", filename)\n",
    "with open(filename, 'r') as f:\n",
    "    big_lfp = np.fromfile(f, np.int16).reshape((-1, 385)).T\n",
    "\n",
    "# Get Timestamps and brain region info\n",
    "dataPath = rootPath + \"allData/\"\n",
    "\n",
    "big_lfp_ts = np.load( glob.glob(dataPath+session+\"/\"+session+\"*.imec.lf.timestamps.npy\")[0], allow_pickle=True)\n",
    "\n",
    "rawRow = np.load(glob.glob(dataPath+session+\"/channels.rawRow.npy\")[0], allow_pickle=True)\n",
    "intervals = np.load(glob.glob(dataPath+session+\"/trials.intervals.npy\")[0], allow_pickle=True)\n",
    "visualTime = np.load(glob.glob(dataPath+session+\"/trials.visualStim_times.npy\")[0], allow_pickle=True)\n",
    "df = pd.read_csv(glob.glob(dataPath+session+\"/channels.brainLocation.tsv\")[0], delimiter=\"\\t\")\n",
    "\n",
    "brainLocation=df.to_numpy()\n",
    "del df"
   ]
  },
  {
   "cell_type": "code",
   "execution_count": 5,
   "metadata": {
    "ExecuteTime": {
     "end_time": "2021-04-18T18:05:24.309038Z",
     "start_time": "2021-04-18T18:05:24.307294Z"
    }
   },
   "outputs": [],
   "source": [
    "# # print(big_lfp_ts)\n",
    "\n",
    "# # for session in Sessions:\n",
    "# session= Sessions[0]\n",
    "# big_lfp_ts = np.load( glob.glob(dataPath+session+\"/\"+session+\"*.imec.lf.timestamps.npy\")[0], allow_pickle=True)\n",
    "\n",
    "# rawRow = np.load(glob.glob(dataPath+session+\"/channels.rawRow.npy\")[0], allow_pickle=True)\n",
    "# intervals = np.load(glob.glob(dataPath+session+\"/trials.intervals.npy\")[0], allow_pickle=True)\n",
    "# gocue = np.load(glob.glob(dataPath+session+\"/trials.goCue_times.npy\")[0], allow_pickle=True)\n",
    "# feedback = np.load(glob.glob(dataPath+session+\"/trials.feedback_times.npy\")[0], allow_pickle=True)\n",
    "# visualTime = np.load(glob.glob(dataPath+session+\"/trials.visualStim_times.npy\")[0], allow_pickle=True)\n",
    "# included = np.load(glob.glob(dataPath+session+\"/trials.included.npy\")[0], allow_pickle=True)\n",
    "# maxi = 0\n",
    "# count = 0\n",
    "# for i in range( len( intervals ) ):\n",
    "#     ii = intervals[i]\n",
    "#     gap = feedback[i]-visualTime[i]\n",
    "#     if( gap > 2.5 ):\n",
    "#         print(i, gap)\n",
    "#     maxi = max( maxi, gap )\n",
    "# #     print(ii[0], visualTime[i], gocue[i], feedback[i], ii[1], feedback[i]-visualTime[i])\n",
    "#     count+=1\n",
    "    \n",
    "# print( maxi, count )"
   ]
  },
  {
   "cell_type": "markdown",
   "metadata": {},
   "source": [
    "- Ref: https://github.com/nsteinme/steinmetz-et-al-2019/wiki/data-files for more details on the dataset descriptions"
   ]
  },
  {
   "cell_type": "code",
   "execution_count": 6,
   "metadata": {
    "ExecuteTime": {
     "end_time": "2021-04-18T18:05:47.021835Z",
     "start_time": "2021-04-18T18:05:24.310157Z"
    }
   },
   "outputs": [],
   "source": [
    "# Average over all the probes in each region to get a one region to one signal mapping\n",
    "regions = {}\n",
    "for i in range(len(brainLocation)):\n",
    "    row = brainLocation[i]\n",
    "    if(row[3] == 'root'):\n",
    "        continue\n",
    "    if row[3] not in regions:\n",
    "        regions[row[3]] = { \"lfp\": np.copy(big_lfp[rawRow[i][0]]), \"count\": 1, \"probes\": [i]}\n",
    "    else:\n",
    "        regions[row[3]][\"lfp\"] = regions[row[3]][\"lfp\"] + big_lfp[rawRow[i][0]]\n",
    "        regions[row[3]][\"count\"] += 1\n",
    "        regions[row[3]][\"probes\"].append(i)\n",
    "\n",
    "for r in regions:\n",
    "    regions[r][\"lfp\"] = regions[r][\"lfp\"]/regions[r][\"count\"]\n",
    "    regions[r][\"lfp\"] = signal.detrend( regions[r][\"lfp\"], type=\"constant\")"
   ]
  },
  {
   "cell_type": "markdown",
   "metadata": {},
   "source": [
    "### Todo:\n",
    "- line noise filtering"
   ]
  },
  {
   "cell_type": "code",
   "execution_count": 7,
   "metadata": {
    "ExecuteTime": {
     "end_time": "2021-04-18T18:05:47.042442Z",
     "start_time": "2021-04-18T18:05:47.023773Z"
    }
   },
   "outputs": [],
   "source": [
    "fs = 2500\n",
    "dt = 1/fs\n",
    "t_trial = 2.5\n",
    "n_samples = int( t_trial*fs )\n",
    "export = {'brain_area_lfp': [], 'lfp': np.zeros([len(regions),len(intervals),n_samples])}\n",
    "i = 0\n",
    "region_names = list(regions.keys())\n",
    "for ri in range(len(region_names)):\n",
    "    region = region_names[ri]\n",
    "    regions[region][\"trials\"] = []\n",
    "    export['brain_area_lfp'].append( region )\n",
    "#     export['lfp'].append( [] )\n",
    "    for i in range(len(intervals)):\n",
    "        start = time_to_sample( visualTime[i][0] )\n",
    "#         print(regions[region][\"lfp\"].shape)\n",
    "        trial = regions[region][\"lfp\"][start:start+n_samples ]\n",
    "#         print(len(trial))\n",
    "#         regions[ri][\"trials\"].append(trial)\n",
    "        export['lfp'][ri,i] = trial\n",
    "#     print(regions[ri][\"trials\"])\n",
    "        \n",
    "#         regions[]"
   ]
  },
  {
   "cell_type": "code",
   "execution_count": 8,
   "metadata": {
    "ExecuteTime": {
     "end_time": "2021-04-18T18:05:47.046259Z",
     "start_time": "2021-04-18T18:05:47.043606Z"
    }
   },
   "outputs": [],
   "source": [
    "# @Title Smoothing and bandpass filters\n",
    "\n",
    "def butter_bandpass(lowcut, highcut, fs, order=5):\n",
    "    low = lowcut\n",
    "    high = highcut\n",
    "    sos = butter(order, [low, high], btype='bandpass', output='sos', fs=fs)\n",
    "    return sos\n",
    "\n",
    "\n",
    "def butter_bandpass_filter(data, lowcut, highcut, fs, order=5, axis=-1):\n",
    "    sos = butter_bandpass(lowcut, highcut, fs, order=order)\n",
    "    y = sosfiltfilt(sos, data, axis=axis)\n",
    "    return y\n"
   ]
  },
  {
   "cell_type": "code",
   "execution_count": 9,
   "metadata": {
    "ExecuteTime": {
     "end_time": "2021-04-18T18:05:47.049234Z",
     "start_time": "2021-04-18T18:05:47.047193Z"
    }
   },
   "outputs": [],
   "source": [
    "# from scipy import signal\n",
    "\n",
    "# from scipy.fft import fftshift\n",
    "\n",
    "# fs = 2500\n",
    "# dt = 1/fs\n",
    "\n",
    "# samples = np.array([intervals[0,0], intervals[-1,1] ])/dt\n",
    "# samples = samples.astype(int)\n",
    "\n",
    "\n",
    "# fs = 2500\n",
    "# sig = regions['MEA'][\"lfp\"]\n",
    "# rec = regions[ri][\"trials\"][0]\n",
    "# after = sig[samples[1]:]\n",
    "# # hp = butter_bandpass_filter(sig, 1, 500, 2500)\n",
    "# f1 = 5\n",
    "# f2 = 5\n",
    "# down = signal.decimate(sig, f1)\n",
    "# down_2 = signal.decimate(down, f2)\n",
    "\n",
    "# f, ax = plt.subplots(5,1, figsize=(14,12))\n",
    "# # spec = plt.specgram(hp[0:250000], Fs = 2500)\n",
    "# ax[1].specgram(sig, Fs = fs, cmap='rainbow')\n",
    "# ax[2].specgram(down_2, Fs = fs/(f1*f2), cmap='rainbow')\n",
    "# ax[0].psd(sig, Fs=2500)\n",
    "# ax[3].psd(rec, Fs=2500)\n",
    "# ax[4].psd(after, Fs=2500)\n",
    "\n",
    "# f, t, Sxx = signal.spectrogram(sig[0:25000], fs)\n",
    "\n",
    "# plt.pcolormesh(t, f, Sxx)\n",
    "\n",
    "# plt.ylabel('Frequency [Hz]')\n",
    "\n",
    "# plt.xlabel('Time [sec]')\n",
    "\n",
    "# spec = plt.specgram(down_2, Fs = fs/(f1*f2), cmap='rainbow')\n",
    "# plt.ylabel('Frequency [Hz]')\n",
    "# plt.xlabel('Time [sec]')\n",
    "# plt.show()\n",
    "# down.shape\n",
    "\n",
    "\n",
    "# x = np.tile(spec[1],(len(spec[2]), 1)).T\n",
    "# y = np.tile(spec[2],(len(spec[1]), 1)) # transpose\n",
    "# z = spec[0]\n",
    "\n",
    "# fig = plt.figure(figsize=(14, 12))\n",
    "# ax = plt.axes(projection='3d')    \n",
    "\n",
    "# ax.plot_surface(x, y, z,cmap='rainbow', edgecolor='none')\n",
    "# ax.set_title('Surface plot')\n",
    "# ax.set_zlim(0,100)\n",
    "# plt.show()"
   ]
  },
  {
   "cell_type": "code",
   "execution_count": 10,
   "metadata": {
    "ExecuteTime": {
     "end_time": "2021-04-18T18:05:47.052258Z",
     "start_time": "2021-04-18T18:05:47.050378Z"
    },
    "scrolled": true
   },
   "outputs": [],
   "source": [
    "# from scipy.fftpack import fft\n",
    "\n",
    "# dt = 1/fs\n",
    "# samples = intervals[0]/dt\n",
    "# samples = samples.astype(int)\n",
    "# raw = regions['MEA'][\"lfp\"][samples[0]:samples[1]]\n",
    "# N=len(raw)\n",
    "\n",
    "# f, ax = plt.subplots(6, 1, figsize=(14, 12), sharex=True)\n",
    "\n",
    "# alpha = butter_bandpass_filter( raw, 8, 13, fs )\n",
    "# theta = butter_bandpass_filter( raw, 4, 8, fs )\n",
    "# beta = butter_bandpass_filter( raw, 13, 32, fs )\n",
    "# gamma = butter_bandpass_filter( raw, 32, 100, fs )\n",
    "# delta = butter_bandpass_filter( raw, 0.4, 4, fs )\n",
    "# ax[5].plot(raw, color='k', label='raw signal' )\n",
    "# ax[2].plot(alpha, color='g', label='alpha signal')\n",
    "# ax[3].plot(beta, color='r', label='beta signal')\n",
    "# ax[4].plot(gamma, color='b', label='gamma signal')\n",
    "# ax[1].plot(theta, color='brown', label='theta signal')\n",
    "# ax[0].plot(delta, color='y', label='delta signal')\n",
    "# ax[0].title.set_text('(a)')\n",
    "# ax[1].title.set_text('(b)')\n",
    "# ax[2].title.set_text('(c)')\n",
    "# ax[3].title.set_text('(d)')\n",
    "# ax[4].title.set_text('(e)')\n",
    "# ax[5].title.set_text('(f)')\n",
    "\n",
    "\n",
    "\n",
    "# plt.tight_layout()\n"
   ]
  },
  {
   "cell_type": "code",
   "execution_count": 11,
   "metadata": {
    "ExecuteTime": {
     "end_time": "2021-04-18T18:05:47.261849Z",
     "start_time": "2021-04-18T18:05:47.053145Z"
    }
   },
   "outputs": [],
   "source": [
    "# with np.printoptions( suppress=True):\n",
    "#     print( big_lfp_ts )\n",
    "export_folder = \"/run/media/h4wke/Elements/LFP/big_lfp/\"\n",
    "np.save(export_folder+session+\".lfp.processed.npy\", export, allow_pickle=True)\n"
   ]
  },
  {
   "cell_type": "markdown",
   "metadata": {},
   "source": [
    "\n",
    "#TODO:\n",
    "- Split into trials\n",
    "- Do Specgram of 1 trial\n",
    "- Try running normal analysis of that trial set"
   ]
  },
  {
   "cell_type": "code",
   "execution_count": null,
   "metadata": {},
   "outputs": [],
   "source": []
  },
  {
   "cell_type": "code",
   "execution_count": null,
   "metadata": {},
   "outputs": [],
   "source": []
  },
  {
   "cell_type": "code",
   "execution_count": null,
   "metadata": {},
   "outputs": [],
   "source": []
  }
 ],
 "metadata": {
  "kernelspec": {
   "display_name": "Python 3",
   "language": "python",
   "name": "python3"
  },
  "language_info": {
   "codemirror_mode": {
    "name": "ipython",
    "version": 3
   },
   "file_extension": ".py",
   "mimetype": "text/x-python",
   "name": "python",
   "nbconvert_exporter": "python",
   "pygments_lexer": "ipython3",
   "version": "3.9.3"
  },
  "varInspector": {
   "cols": {
    "lenName": 16,
    "lenType": 16,
    "lenVar": 40
   },
   "kernels_config": {
    "python": {
     "delete_cmd_postfix": "",
     "delete_cmd_prefix": "del ",
     "library": "var_list.py",
     "varRefreshCmd": "print(var_dic_list())"
    },
    "r": {
     "delete_cmd_postfix": ") ",
     "delete_cmd_prefix": "rm(",
     "library": "var_list.r",
     "varRefreshCmd": "cat(var_dic_list()) "
    }
   },
   "position": {
    "height": "731.85px",
    "left": "23px",
    "right": "20px",
    "top": "79px",
    "width": "342px"
   },
   "types_to_exclude": [
    "module",
    "function",
    "builtin_function_or_method",
    "instance",
    "_Feature"
   ],
   "window_display": true
  }
 },
 "nbformat": 4,
 "nbformat_minor": 4
}
