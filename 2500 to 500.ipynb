{
 "cells": [
  {
   "cell_type": "code",
   "execution_count": 1,
   "id": "handed-minister",
   "metadata": {
    "ExecuteTime": {
     "end_time": "2021-04-25T15:36:38.693509Z",
     "start_time": "2021-04-25T15:35:18.823681Z"
    }
   },
   "outputs": [
    {
     "name": "stdout",
     "output_type": "stream",
     "text": [
      "39\n",
      "Reading:  /run/media/h4wke/Elements/LFP/Cori_2016-12-14_lfp/Cori_2016-12-14_M2_g0_t0.imec.lf.bin\n"
     ]
    }
   ],
   "source": [
    "import numpy as np\n",
    "import pandas as pd\n",
    "import seaborn as sns\n",
    "import scipy.stats as stats\n",
    "import scipy.signal as signal\n",
    "import scipy.fftpack as fftpack\n",
    "import timeit, glob\n",
    "from scipy.signal import butter, lfilter, sosfiltfilt\n",
    "from matplotlib import rcParams\n",
    "from matplotlib import pyplot as plt\n",
    "\n",
    "# Load the big data file downloaded from https://figshare.com/articles/dataset/LFP_data_from_Steinmetz_et_al_2019/9727895\n",
    "rootPath = \"/run/media/h4wke/Elements/LFP/\"\n",
    "\n",
    "Sessions = ['Cori_2016-12-14', 'Cori_2016-12-17', 'Cori_2016-12-18', 'Forssmann_2017-11-01', 'Forssmann_2017-11-02', 'Forssmann_2017-11-04', 'Forssmann_2017-11-05', 'Hench_2017-06-15', 'Hench_2017-06-16', 'Hench_2017-06-17', 'Hench_2017-06-18', 'Lederberg_2017-12-05', 'Lederberg_2017-12-06', 'Lederberg_2017-12-07', 'Lederberg_2017-12-08', 'Lederberg_2017-12-09', 'Lederberg_2017-12-10', 'Lederberg_2017-12-11', 'Moniz_2017-05-15', 'Moniz_2017-05-16', 'Moniz_2017-05-18', 'Muller_2017-01-07', 'Muller_2017-01-08', 'Muller_2017-01-09', 'Radnitz_2017-01-08', 'Radnitz_2017-01-09', 'Radnitz_2017-01-10', 'Radnitz_2017-01-11', 'Radnitz_2017-01-12', 'Richards_2017-10-29', 'Richards_2017-10-30', 'Richards_2017-10-31', 'Richards_2017-11-01', 'Richards_2017-11-02', 'Tatum_2017-12-06', 'Tatum_2017-12-07', 'Tatum_2017-12-08', 'Tatum_2017-12-09', 'Theiler_2017-10-11']\n",
    "\n",
    "def time_to_sample( time ):\n",
    "    return round(time * big_lfp_ts[1,0]/big_lfp_ts[1,1])\n",
    "\n",
    "def samples( trial, intervals, dt ):\n",
    "    samples = np.array([intervals[trial,0], intervals[trial,1] ])/dt\n",
    "    samples = samples.astype(int)\n",
    "    return samples\n",
    "\n",
    "def filter_data(data, low, high, sf, order=2, axis=-1):\n",
    "    # Determine Nyquist frequency\n",
    "    nyq = sf/2\n",
    "\n",
    "    # Set bands\n",
    "    low = low/nyq\n",
    "    high = high/nyq\n",
    "\n",
    "    # Calculate coefficients\n",
    "    b, a = butter(order, [low, high], btype='band')\n",
    "\n",
    "    # Filter signal\n",
    "    filtered_data = lfilter(b, a, data, axis)\n",
    "\n",
    "    return filtered_data\n",
    "export_folder = \"/run/media/h4wke/Elements/LFP/250_lfp/\"\n",
    "existing = len(glob.glob(export_folder+\"*\"))\n",
    "print(existing)\n",
    "session = Sessions[existing]\n",
    "filename = glob.glob(rootPath+session+\"_lfp/\"+session+\"*\")[0]\n",
    "print(\"Reading: \", filename)\n",
    "with open(filename, 'r') as f:\n",
    "    big_lfp = np.fromfile(f, np.int16).reshape((-1, 385)).T\n",
    "\n",
    "# Get Timestamps and brain region info\n",
    "dataPath = rootPath + \"allData/\"\n",
    "\n",
    "big_lfp_ts = np.load( glob.glob(dataPath+session+\"/\"+session+\"*.imec.lf.timestamps.npy\")[0], allow_pickle=True)\n",
    "\n",
    "rawRow = np.load(glob.glob(dataPath+session+\"/channels.rawRow.npy\")[0], allow_pickle=True)\n",
    "intervals = np.load(glob.glob(dataPath+session+\"/trials.intervals.npy\")[0], allow_pickle=True)\n",
    "visualTime = np.load(glob.glob(dataPath+session+\"/trials.visualStim_times.npy\")[0], allow_pickle=True)\n",
    "df = pd.read_csv(glob.glob(dataPath+session+\"/channels.brainLocation.tsv\")[0], delimiter=\"\\t\")\n",
    "\n",
    "brainLocation=df.to_numpy()\n",
    "del df\n",
    "\n",
    "# Average over all the probes in each region to get a one region to one signal mapping\n",
    "regions = {}\n",
    "for i in range(len(brainLocation)):\n",
    "    row = brainLocation[i]\n",
    "    if(row[3] == 'root'):\n",
    "        continue\n",
    "    if row[3] not in regions:\n",
    "        regions[row[3]] = { \"lfp\": np.copy(big_lfp[rawRow[i][0]]), \"count\": 1, \"probes\": [i]}\n",
    "    else:\n",
    "        regions[row[3]][\"lfp\"] = regions[row[3]][\"lfp\"] + big_lfp[rawRow[i][0]]\n",
    "        regions[row[3]][\"count\"] += 1\n",
    "        regions[row[3]][\"probes\"].append(i)\n",
    "\n",
    "for r in regions:\n",
    "    regions[r][\"lfp\"] = regions[r][\"lfp\"]/regions[r][\"count\"]\n",
    "    regions[r][\"lfp\"] = signal.detrend( regions[r][\"lfp\"], type=\"constant\")\n",
    "\n",
    "fs = 2500\n",
    "dt = 1/fs\n",
    "t_trial = 2.5\n",
    "n_samples = int( t_trial*fs )\n",
    "export = {'brain_area_lfp': [], 'lfp': np.zeros([len(regions),len(intervals),n_samples])}\n",
    "i = 0\n",
    "region_names = list(regions.keys())\n",
    "for ri in range(len(region_names)):\n",
    "    region = region_names[ri]\n",
    "    regions[region][\"trials\"] = []\n",
    "    export['brain_area_lfp'].append( region )\n",
    "    for i in range(len(intervals)):\n",
    "        start = time_to_sample( visualTime[i][0] )\n",
    "        trial = regions[region][\"lfp\"][start:start+n_samples ]\n",
    "        export['lfp'][ri,i] = trial\n",
    "\n",
    "export['lfp'] = filter_data(export['lfp'], low=1, high=250, sf=2500, axis=2)\n",
    "export['lfp'] = signal.decimate(export['lfp'], 5)\n",
    "\n",
    "print( \"Saving \" + session + \"\\nWith data containing \" + str( export['brain_area_lfp'] ) + \" regions \\nShape: \" + str( export['lfp'].shape ) )\n",
    "np.save(export_folder+session+\".lfp.processed.npy\", export, allow_pickle=True)"
   ]
  },
  {
   "cell_type": "code",
   "execution_count": null,
   "id": "figured-belgium",
   "metadata": {},
   "outputs": [],
   "source": []
  },
  {
   "cell_type": "code",
   "execution_count": null,
   "id": "advisory-medline",
   "metadata": {},
   "outputs": [],
   "source": []
  },
  {
   "cell_type": "code",
   "execution_count": null,
   "id": "dominant-mayor",
   "metadata": {},
   "outputs": [],
   "source": []
  }
 ],
 "metadata": {
  "kernelspec": {
   "display_name": "Python 3",
   "language": "python",
   "name": "python3"
  },
  "language_info": {
   "codemirror_mode": {
    "name": "ipython",
    "version": 3
   },
   "file_extension": ".py",
   "mimetype": "text/x-python",
   "name": "python",
   "nbconvert_exporter": "python",
   "pygments_lexer": "ipython3",
   "version": "3.9.4"
  },
  "varInspector": {
   "cols": {
    "lenName": 16,
    "lenType": 16,
    "lenVar": 40
   },
   "kernels_config": {
    "python": {
     "delete_cmd_postfix": "",
     "delete_cmd_prefix": "del ",
     "library": "var_list.py",
     "varRefreshCmd": "print(var_dic_list())"
    },
    "r": {
     "delete_cmd_postfix": ") ",
     "delete_cmd_prefix": "rm(",
     "library": "var_list.r",
     "varRefreshCmd": "cat(var_dic_list()) "
    }
   },
   "position": {
    "height": "910.85px",
    "left": "17px",
    "right": "20px",
    "top": "7px",
    "width": "346px"
   },
   "types_to_exclude": [
    "module",
    "function",
    "builtin_function_or_method",
    "instance",
    "_Feature"
   ],
   "window_display": true
  }
 },
 "nbformat": 4,
 "nbformat_minor": 5
}
